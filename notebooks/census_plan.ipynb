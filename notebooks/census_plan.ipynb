{
 "cells": [
  {
   "cell_type": "code",
   "execution_count": 1,
   "id": "controlled-madison",
   "metadata": {},
   "outputs": [],
   "source": [
    "import get_census\n",
    "import yaml"
   ]
  },
  {
   "cell_type": "code",
   "execution_count": 2,
   "id": "uniform-spanking",
   "metadata": {},
   "outputs": [],
   "source": [
    "with open(\"census_vars.yml\") as f:\n",
    "    yaml_dict = yaml.load(f, Loader=yaml.FullLoader)\n",
    "    "
   ]
  },
  {
   "cell_type": "markdown",
   "id": "limiting-democrat",
   "metadata": {},
   "source": [
    "Thinking of how to go to Variable plan from yaml_file. Thinking that we loop over year externally to the dictionary keys, since we'll be using year to set as a key in the DataPlan object. Then we use the same logic we used in R to ID the correct set of datasets and variables for that year. "
   ]
  },
  {
   "cell_type": "code",
   "execution_count": 3,
   "id": "noted-adapter",
   "metadata": {},
   "outputs": [
    {
     "name": "stdout",
     "output_type": "stream",
     "text": [
      "Name: age_pct_15_44\n",
      "Dataset: census\n",
      "Num: ['P012006', 'P012007', 'P012008', 'P012009', 'P012010', 'P012011', 'P012012', 'P012013', 'P012014', 'P012030', 'P012031', 'P012032', 'P012033', 'P012034', 'P012035', 'P012036', 'P012037', 'P012038']\n",
      "Den: P012001\n"
     ]
    }
   ],
   "source": [
    "min_year = 2008\n",
    "max_year = 2011\n",
    "\n",
    "temp = yaml_dict['age_pct_15_44'][2000]\n",
    "\n",
    "dataset = list(temp.keys())[0]\n",
    "\n",
    "x = get_census.VariableDef('age_pct_15_44', temp)\n",
    "print(x)"
   ]
  },
  {
   "cell_type": "code",
   "execution_count": 4,
   "id": "married-michael",
   "metadata": {},
   "outputs": [
    {
     "name": "stdout",
     "output_type": "stream",
     "text": [
      "[69, 10000, 420]\n",
      "[69, 420, 10000]\n"
     ]
    }
   ],
   "source": [
    "year_set = yaml_dict['age_pct_15_44']\n",
    "t = [69, 10000, 420]\n",
    "print(t)\n",
    "t.sort()\n",
    "print(t)\n",
    "\n",
    "year = 2003\n",
    "\n"
   ]
  },
  {
   "cell_type": "code",
   "execution_count": 7,
   "id": "answering-spanish",
   "metadata": {},
   "outputs": [],
   "source": [
    "test = dict()\n",
    "for year in range(min_year,max_year +1):\n",
    "    test[year] = list()\n",
    "    for varname in yaml_dict.keys():\n",
    "        plan_year = get_census.find_year(year, list(yaml_dict[varname].keys()))\n",
    "        test[year].append(get_census.VariableDef(varname, yaml_dict[varname][plan_year]))\n",
    "        \n",
    "        \n",
    "    \n"
   ]
  },
  {
   "cell_type": "code",
   "execution_count": 8,
   "id": "comprehensive-reynolds",
   "metadata": {},
   "outputs": [
    {
     "name": "stdout",
     "output_type": "stream",
     "text": [
      "{2008: [<hispanic_pct acs>, <poverty acs>, <poverty_mcare acs>, <population acs>, <median_house_value acs>, <blk_pct acs>, <white_pct acs>, <native_pct acs>, <asian_pct acs>, <no_grad acs>, <no_grad_mcare acs>, <median_household_income acs>, <owner_occupied acs>, <median_age acs>, <age_pct_0_14 acs>, <age_pct_15_44 acs>, <age_pct_45_65 acs>, <age_pct_65_plus acs>], 2009: [<hispanic_pct acs>, <poverty acs>, <poverty_mcare acs>, <population acs>, <median_house_value acs>, <blk_pct acs>, <white_pct acs>, <native_pct acs>, <asian_pct acs>, <no_grad acs>, <no_grad_mcare acs>, <median_household_income acs>, <owner_occupied acs>, <median_age acs>, <age_pct_0_14 acs>, <age_pct_15_44 acs>, <age_pct_45_65 acs>, <age_pct_65_plus acs>], 2010: [<hispanic_pct census>, <poverty acs>, <poverty_mcare acs>, <population census>, <median_house_value acs>, <blk_pct census>, <white_pct census>, <native_pct census>, <asian_pct census>, <no_grad acs>, <no_grad_mcare acs>, <median_household_income acs>, <owner_occupied census>, <median_age census>, <age_pct_0_14 census>, <age_pct_15_44 census>, <age_pct_45_65 census>, <age_pct_65_plus census>], 2011: [<hispanic_pct acs>, <poverty acs>, <poverty_mcare acs>, <population acs>, <median_house_value acs>, <blk_pct acs>, <white_pct acs>, <native_pct acs>, <asian_pct acs>, <no_grad acs>, <no_grad_mcare acs>, <median_household_income acs>, <owner_occupied acs>, <median_age acs>, <age_pct_0_14 acs>, <age_pct_15_44 acs>, <age_pct_45_65 acs>, <age_pct_65_plus acs>]}\n"
     ]
    }
   ],
   "source": [
    "print(test)"
   ]
  },
  {
   "cell_type": "code",
   "execution_count": 13,
   "id": "allied-negotiation",
   "metadata": {},
   "outputs": [
    {
     "name": "stdout",
     "output_type": "stream",
     "text": [
      "[2000, 2009, 2010, 2011, 2012, 2013, 2014, 2015, 2016, 2017, 2018, 2019]\n"
     ]
    }
   ],
   "source": [
    "x = [2000] + list(range(2009, 2020))\n",
    "\n",
    "print(x)"
   ]
  },
  {
   "cell_type": "code",
   "execution_count": 15,
   "id": "apart-alignment",
   "metadata": {},
   "outputs": [
    {
     "name": "stdout",
     "output_type": "stream",
     "text": [
      "None\n"
     ]
    }
   ],
   "source": [
    "print(get_census.find_year(2020, x))"
   ]
  },
  {
   "cell_type": "code",
   "execution_count": 16,
   "id": "patient-muscle",
   "metadata": {},
   "outputs": [
    {
     "name": "stdout",
     "output_type": "stream",
     "text": [
      "[2000, 2009, 2010, 2011, 2012, 2013, 2014, 2015, 2016, 2017, 2018, 2019, None]\n"
     ]
    }
   ],
   "source": [
    "print(x + [None])"
   ]
  },
  {
   "cell_type": "code",
   "execution_count": 2,
   "id": "incident-paradise",
   "metadata": {},
   "outputs": [],
   "source": [
    "x = get_census.DataPlan(\"census_vars.yml\", \"zcta\", get_census.census_years(2007, 2011))"
   ]
  },
  {
   "cell_type": "code",
   "execution_count": 3,
   "id": "worldwide-vegetation",
   "metadata": {},
   "outputs": [
    {
     "name": "stdout",
     "output_type": "stream",
     "text": [
      "{2009: [<hispanic_pct acs>, <poverty acs>, <poverty_mcare acs>, <population acs>, <median_house_value acs>, <blk_pct acs>, <white_pct acs>, <native_pct acs>, <asian_pct acs>, <no_grad acs>, <no_grad_mcare acs>, <median_household_income acs>, <owner_occupied acs>, <median_age acs>, <age_pct_0_14 acs>, <age_pct_15_44 acs>, <age_pct_45_65 acs>, <age_pct_65_plus acs>], 2010: [<hispanic_pct census>, <poverty acs>, <poverty_mcare acs>, <population census>, <median_house_value acs>, <blk_pct census>, <white_pct census>, <native_pct census>, <asian_pct census>, <no_grad acs>, <no_grad_mcare acs>, <median_household_income acs>, <owner_occupied census>, <median_age census>, <age_pct_0_14 census>, <age_pct_15_44 census>, <age_pct_45_65 census>, <age_pct_65_plus census>], 2011: [<hispanic_pct acs>, <poverty acs>, <poverty_mcare acs>, <population acs>, <median_house_value acs>, <blk_pct acs>, <white_pct acs>, <native_pct acs>, <asian_pct acs>, <no_grad acs>, <no_grad_mcare acs>, <median_household_income acs>, <owner_occupied acs>, <median_age acs>, <age_pct_0_14 acs>, <age_pct_15_44 acs>, <age_pct_45_65 acs>, <age_pct_65_plus acs>]}\n"
     ]
    }
   ],
   "source": [
    "print(x.plan)"
   ]
  },
  {
   "cell_type": "code",
   "execution_count": null,
   "id": "imperial-focus",
   "metadata": {},
   "outputs": [],
   "source": []
  },
  {
   "cell_type": "code",
   "execution_count": null,
   "id": "covered-whole",
   "metadata": {},
   "outputs": [],
   "source": []
  }
 ],
 "metadata": {
  "kernelspec": {
   "display_name": "Python 3",
   "language": "python",
   "name": "python3"
  },
  "language_info": {
   "codemirror_mode": {
    "name": "ipython",
    "version": 3
   },
   "file_extension": ".py",
   "mimetype": "text/x-python",
   "name": "python",
   "nbconvert_exporter": "python",
   "pygments_lexer": "ipython3",
   "version": "3.9.1"
  }
 },
 "nbformat": 4,
 "nbformat_minor": 5
}
