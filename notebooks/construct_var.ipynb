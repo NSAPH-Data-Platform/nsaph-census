{
 "cells": [
  {
   "cell_type": "code",
   "execution_count": 1,
   "id": "protecting-austria",
   "metadata": {},
   "outputs": [],
   "source": [
    "import get_census\n",
    "import pandas as pd\n",
    "import yaml"
   ]
  },
  {
   "cell_type": "code",
   "execution_count": 2,
   "id": "deadly-monday",
   "metadata": {},
   "outputs": [],
   "source": [
    "with open(\"census_vars.yml\") as f:\n",
    "    yaml_dict = yaml.load(f, Loader=yaml.FullLoader)"
   ]
  },
  {
   "cell_type": "code",
   "execution_count": 5,
   "id": "personalized-architecture",
   "metadata": {},
   "outputs": [
    {
     "name": "stdout",
     "output_type": "stream",
     "text": [
      "Name: pct_black\n",
      "Dataset: census\n",
      "Num: ['P007003']\n",
      "Den: ['P007001']\n"
     ]
    }
   ],
   "source": [
    "my_var = get_census.VariableDef(\"pct_black\", yaml_dict[\"blk_pct\"][2000])\n",
    "print(my_var)"
   ]
  },
  {
   "cell_type": "code",
   "execution_count": 4,
   "id": "worst-possible",
   "metadata": {},
   "outputs": [],
   "source": [
    "data = my_var.do_query(2010, \"county\")"
   ]
  },
  {
   "cell_type": "code",
   "execution_count": 5,
   "id": "palestinian-insert",
   "metadata": {},
   "outputs": [
    {
     "name": "stdout",
     "output_type": "stream",
     "text": [
      "      P006003  P006001 state county  year\n",
      "0        9396   130520    05    131  2010\n",
      "1         821    17601    05    133  2010\n",
      "2         146    17563    05    135  2010\n",
      "3          21    12600    05    137  2010\n",
      "4       13966    42191    05    139  2010\n",
      "...       ...      ...   ...    ...   ...\n",
      "3216     1504   100439    55    035  2010\n",
      "3217       15     4474    55    037  2010\n",
      "3218     1833   103042    55    039  2010\n",
      "3219       98     9536    55    041  2010\n",
      "3220     1008    84812    55    055  2010\n",
      "\n",
      "[3221 rows x 5 columns]\n"
     ]
    }
   ],
   "source": [
    "print(data)"
   ]
  },
  {
   "cell_type": "code",
   "execution_count": 6,
   "id": "agreed-practice",
   "metadata": {},
   "outputs": [
    {
     "name": "stdout",
     "output_type": "stream",
     "text": [
      "      P006003  P006001 state county  year    num     den  pct_black\n",
      "0        9396   130520    05    131  2010   9396  130520   0.071989\n",
      "1         821    17601    05    133  2010    821   17601   0.046645\n",
      "2         146    17563    05    135  2010    146   17563   0.008313\n",
      "3          21    12600    05    137  2010     21   12600   0.001667\n",
      "4       13966    42191    05    139  2010  13966   42191   0.331018\n",
      "...       ...      ...   ...    ...   ...    ...     ...        ...\n",
      "3216     1504   100439    55    035  2010   1504  100439   0.014974\n",
      "3217       15     4474    55    037  2010     15    4474   0.003353\n",
      "3218     1833   103042    55    039  2010   1833  103042   0.017789\n",
      "3219       98     9536    55    041  2010     98    9536   0.010277\n",
      "3220     1008    84812    55    055  2010   1008   84812   0.011885\n",
      "\n",
      "[3221 rows x 8 columns]\n"
     ]
    }
   ],
   "source": [
    "data['num'] = data[my_var.num[0]]\n",
    "data['den'] = data[my_var.den[0]]\n",
    "data[my_var.name] = data['num'] / data['den']\n",
    "print(data)"
   ]
  },
  {
   "cell_type": "code",
   "execution_count": 6,
   "id": "republican-suite",
   "metadata": {},
   "outputs": [],
   "source": [
    "test = get_census.get_census_data(2010, ['P006003', 'P006001'], \"county\", \"dec\")"
   ]
  },
  {
   "cell_type": "code",
   "execution_count": 4,
   "id": "waiting-elder",
   "metadata": {},
   "outputs": [
    {
     "data": {
      "text/plain": [
       "['P006003', 'P006001']"
      ]
     },
     "execution_count": 4,
     "metadata": {},
     "output_type": "execute_result"
    }
   ],
   "source": [
    "my_var.get_vars()"
   ]
  },
  {
   "cell_type": "code",
   "execution_count": 10,
   "id": "developing-foundation",
   "metadata": {},
   "outputs": [
    {
     "name": "stdout",
     "output_type": "stream",
     "text": [
      "      P006003  P006001 state county  year     den  pct_black\n",
      "0        9396   130520    05    131  2010  130520   0.071989\n",
      "1         821    17601    05    133  2010   17601   0.046645\n",
      "2         146    17563    05    135  2010   17563   0.008313\n",
      "3          21    12600    05    137  2010   12600   0.001667\n",
      "4       13966    42191    05    139  2010   42191   0.331018\n",
      "...       ...      ...   ...    ...   ...     ...        ...\n",
      "3216     1504   100439    55    035  2010  100439   0.014974\n",
      "3217       15     4474    55    037  2010    4474   0.003353\n",
      "3218     1833   103042    55    039  2010  103042   0.017789\n",
      "3219       98     9536    55    041  2010    9536   0.010277\n",
      "3220     1008    84812    55    055  2010   84812   0.011885\n",
      "\n",
      "[3221 rows x 7 columns]\n"
     ]
    }
   ],
   "source": [
    "data.drop(columns=\"num\", inplace=True)\n",
    "print(data)"
   ]
  },
  {
   "cell_type": "code",
   "execution_count": 7,
   "id": "gothic-advancement",
   "metadata": {},
   "outputs": [
    {
     "name": "stdout",
     "output_type": "stream",
     "text": [
      "     state county  year  pct_black\n",
      "0       01    079  2000   0.133552\n",
      "1       08    107  2000   0.001270\n",
      "2       16    007  2000   0.000936\n",
      "3       19    043  2000   0.001392\n",
      "4       21    147  2000   0.006323\n",
      "...    ...    ...   ...        ...\n",
      "3214    39    063  2000   0.011067\n",
      "3215    45    029  2000   0.421806\n",
      "3216    48    127  2000   0.008782\n",
      "3217    51    045  2000   0.001964\n",
      "3218    55    097  2000   0.003200\n",
      "\n",
      "[3219 rows x 4 columns]\n"
     ]
    }
   ],
   "source": [
    "test = my_var.calculate_var(2000, \"county\")\n",
    "print(test)"
   ]
  },
  {
   "cell_type": "code",
   "execution_count": null,
   "id": "boolean-sacrifice",
   "metadata": {},
   "outputs": [],
   "source": []
  }
 ],
 "metadata": {
  "kernelspec": {
   "display_name": "Python 3",
   "language": "python",
   "name": "python3"
  },
  "language_info": {
   "codemirror_mode": {
    "name": "ipython",
    "version": 3
   },
   "file_extension": ".py",
   "mimetype": "text/x-python",
   "name": "python",
   "nbconvert_exporter": "python",
   "pygments_lexer": "ipython3",
   "version": "3.9.1"
  }
 },
 "nbformat": 4,
 "nbformat_minor": 5
}
